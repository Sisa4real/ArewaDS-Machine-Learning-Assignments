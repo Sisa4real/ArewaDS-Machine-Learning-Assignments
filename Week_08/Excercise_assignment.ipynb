{
 "cells": [
  {
   "cell_type": "markdown",
   "metadata": {},
   "source": [
    ".Tokenize and tag the following sentence: They wind back the clock, while we chase after the wind. What different pronunciations and parts of speech are involved?"
   ]
  },
  {
   "cell_type": "code",
   "execution_count": 1,
   "metadata": {},
   "outputs": [
    {
     "name": "stdout",
     "output_type": "stream",
     "text": [
      "['They', 'wind', 'back', 'the', 'clock', ',', 'while', 'we', 'chase', 'after', 'the', 'wind', '.']\n"
     ]
    }
   ],
   "source": [
    "# Tokanization\n",
    "import nltk\n",
    "\n",
    "sentence = \"They wind back the clock, while we chase after the wind.\"\n",
    "\n",
    "# Tokenization\n",
    "tokens = nltk.word_tokenize(sentence)\n",
    "\n",
    "# Print the tokens\n",
    "print(tokens)"
   ]
  },
  {
   "cell_type": "code",
   "execution_count": 2,
   "metadata": {},
   "outputs": [
    {
     "name": "stdout",
     "output_type": "stream",
     "text": [
      "Token: They\tTag: PRP\n",
      "Token: wind\tTag: VBP\n",
      "Token: back\tTag: RB\n",
      "Token: the\tTag: DT\n",
      "Token: clock\tTag: NN\n",
      "Token: ,\tTag: ,\n",
      "Token: while\tTag: IN\n",
      "Token: we\tTag: PRP\n",
      "Token: chase\tTag: VBP\n",
      "Token: after\tTag: IN\n",
      "Token: the\tTag: DT\n",
      "Token: wind\tTag: NN\n",
      "Token: .\tTag: .\n"
     ]
    }
   ],
   "source": [
    "# Tagging \n",
    "import nltk\n",
    "\n",
    "sentence = \"They wind back the clock, while we chase after the wind.\"\n",
    "\n",
    "# Tokenization\n",
    "tokens = nltk.word_tokenize(sentence)\n",
    "\n",
    "# POS Tagging\n",
    "tagged_tokens = nltk.pos_tag(tokens)\n",
    "\n",
    "# Print the tagged tokens\n",
    "for token, tag in tagged_tokens:\n",
    "    print(f\"Token: {token}\\tTag: {tag}\")"
   ]
  }
 ],
 "metadata": {
  "interpreter": {
   "hash": "4e880a7f5f27ad91acd9cec33fbf0d93d234c7ab08dff5f8487ebbcd75c6e380"
  },
  "kernelspec": {
   "display_name": "Python 3.10.0 64-bit",
   "language": "python",
   "name": "python3"
  },
  "language_info": {
   "codemirror_mode": {
    "name": "ipython",
    "version": 3
   },
   "file_extension": ".py",
   "mimetype": "text/x-python",
   "name": "python",
   "nbconvert_exporter": "python",
   "pygments_lexer": "ipython3",
   "version": "3.10.0"
  },
  "orig_nbformat": 4
 },
 "nbformat": 4,
 "nbformat_minor": 2
}
