{
 "cells": [
  {
   "cell_type": "code",
   "execution_count": 1,
   "metadata": {},
   "outputs": [
    {
     "name": "stdout",
     "output_type": "stream",
     "text": [
      "Accuracy: 0.46\n",
      "Sentiment: pos\n"
     ]
    }
   ],
   "source": [
    "import nltk\n",
    "import random\n",
    "from nltk.corpus import movie_reviews\n",
    "from nltk.classify import apply_features\n",
    "\n",
    "# Step 1: Prepare the dataset\n",
    "documents = [(list(movie_reviews.words(fileid)), category)\n",
    "             for category in movie_reviews.categories()\n",
    "             for fileid in movie_reviews.fileids(category)]\n",
    "\n",
    "# Step 2: Shuffle the documents\n",
    "random.shuffle(documents)\n",
    "\n",
    "# Step 3: Define feature extractor function\n",
    "def document_features(document):\n",
    "    words = set(document)\n",
    "    features = {}\n",
    "    for word in word_features:\n",
    "        features[word] = (word in words)\n",
    "    return features\n",
    "\n",
    "# Step 4: Create the feature set\n",
    "all_words = nltk.FreqDist(w.lower() for w in movie_reviews.words())\n",
    "word_features = list(all_words.keys())[:2000]\n",
    "featuresets = [(document_features(d), c) for (d, c) in documents]\n",
    "\n",
    "# Step 5: Split the dataset into training and testing sets\n",
    "train_set = apply_features(document_features, featuresets[:1500])\n",
    "test_set = apply_features(document_features, featuresets[1500:])\n",
    "\n",
    "# Step 6: Train the classifier\n",
    "classifier = nltk.NaiveBayesClassifier.train(train_set)\n",
    "\n",
    "# Step 7: Evaluate the classifier\n",
    "accuracy = nltk.classify.accuracy(classifier, test_set)\n",
    "print(\"Accuracy:\", accuracy)\n",
    "\n",
    "# Step 8: Test the classifier on custom text\n",
    "custom_text = \"This movie was fantastic!\"\n",
    "custom_features = document_features(custom_text.split())\n",
    "sentiment = classifier.classify(custom_features)\n",
    "print(\"Sentiment:\", sentiment)"
   ]
  }
 ],
 "metadata": {
  "interpreter": {
   "hash": "4e880a7f5f27ad91acd9cec33fbf0d93d234c7ab08dff5f8487ebbcd75c6e380"
  },
  "kernelspec": {
   "display_name": "Python 3.10.0 64-bit",
   "language": "python",
   "name": "python3"
  },
  "language_info": {
   "codemirror_mode": {
    "name": "ipython",
    "version": 3
   },
   "file_extension": ".py",
   "mimetype": "text/x-python",
   "name": "python",
   "nbconvert_exporter": "python",
   "pygments_lexer": "ipython3",
   "version": "3.10.0"
  },
  "orig_nbformat": 4
 },
 "nbformat": 4,
 "nbformat_minor": 2
}
