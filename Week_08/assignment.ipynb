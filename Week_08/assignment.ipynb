{
 "cells": [
  {
   "cell_type": "markdown",
   "metadata": {},
   "source": [
    ". Develop a chunker for one of the chunk types in the CoNLL corpus using a regular-expression based chunk grammar RegexpChunk. Use any combination of rules for chunking, chinking, merging or splitting."
   ]
  },
  {
   "cell_type": "code",
   "execution_count": 3,
   "metadata": {},
   "outputs": [
    {
     "name": "stdout",
     "output_type": "stream",
     "text": [
      "(NP The/DT quick/JJ brown/JJ fox/NN)\n",
      "(NP the/DT lazy/JJ dog/NN)\n"
     ]
    }
   ],
   "source": [
    "import nltk\n",
    "\n",
    "class NPChunker(nltk.RegexpParser):\n",
    "    def __init__(self, grammar, **kwargs):\n",
    "        super().__init__(grammar, **kwargs)\n",
    "\n",
    "# Sample CoNLL corpus sentence\n",
    "sentence = [(\"The\", \"DT\"), (\"quick\", \"JJ\"), (\"brown\", \"JJ\"), (\"fox\", \"NN\"), (\"jumps\", \"VBZ\"), (\"over\", \"IN\"),\n",
    "            (\"the\", \"DT\"), (\"lazy\", \"JJ\"), (\"dog\", \"NN\")]\n",
    "\n",
    "# Define the chunk grammar rules\n",
    "chunk_grammar = r\"\"\"\n",
    "    NP: {<DT>?<JJ>*<NN>}  # Chunk sequences of DT, JJ, NN\n",
    "        {<NNP>+}         # Chunk consecutive proper nouns\n",
    "\"\"\"\n",
    "\n",
    "# Create the NP chunker using the chunk grammar\n",
    "chunker = NPChunker(chunk_grammar)\n",
    "\n",
    "# Apply chunking to the sentence\n",
    "result = chunker.parse(sentence)\n",
    "\n",
    "# Print the noun phrases\n",
    "for subtree in result.subtrees(filter=lambda t: t.label() == 'NP'):\n",
    "    print(subtree)"
   ]
  }
 ],
 "metadata": {
  "interpreter": {
   "hash": "4e880a7f5f27ad91acd9cec33fbf0d93d234c7ab08dff5f8487ebbcd75c6e380"
  },
  "kernelspec": {
   "display_name": "Python 3.10.0 64-bit",
   "language": "python",
   "name": "python3"
  },
  "language_info": {
   "codemirror_mode": {
    "name": "ipython",
    "version": 3
   },
   "file_extension": ".py",
   "mimetype": "text/x-python",
   "name": "python",
   "nbconvert_exporter": "python",
   "pygments_lexer": "ipython3",
   "version": "3.10.0"
  },
  "orig_nbformat": 4
 },
 "nbformat": 4,
 "nbformat_minor": 2
}
